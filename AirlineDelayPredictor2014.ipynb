{
 "cells": [
  {
   "cell_type": "markdown",
   "metadata": {},
   "source": [
    "We are use the popular Flights Dataset to analyze and predict flight delays in airports based on past flight records. \n",
    "For this dataset, we will only look at the flights in 2014 .\n",
    "Model used is Logistic Regression"
   ]
  },
  {
   "cell_type": "markdown",
   "metadata": {},
   "source": [
    "# Import findspark and findspark.init() to make pyspark importable as a regular library"
   ]
  },
  {
   "cell_type": "code",
   "execution_count": 1,
   "metadata": {},
   "outputs": [
    {
     "data": {
      "text/plain": [
       "'c:\\\\Users\\\\markj\\\\AppData\\\\Local\\\\Programs\\\\Python\\\\Python310\\\\lib\\\\site-packages\\\\pyspark'"
      ]
     },
     "execution_count": 1,
     "metadata": {},
     "output_type": "execute_result"
    }
   ],
   "source": [
    "import findspark \n",
    "findspark.init() \n",
    "findspark.find() \n",
    "import pyspark \n",
    "findspark.find()"
   ]
  },
  {
   "cell_type": "code",
   "execution_count": 2,
   "metadata": {},
   "outputs": [],
   "source": [
    "from pyspark import SparkContext, SparkConf\n",
    "from pyspark.sql import SparkSession\n",
    "conf = pyspark.SparkConf().setAppName('appName').setMaster('local')\n",
    "sc = pyspark.SparkContext(conf=conf)\n",
    "spark = SparkSession(sc)"
   ]
  },
  {
   "cell_type": "markdown",
   "metadata": {},
   "source": [
    "#importing some packages we need"
   ]
  },
  {
   "cell_type": "code",
   "execution_count": 3,
   "metadata": {},
   "outputs": [],
   "source": [
    "from pyspark.sql import SQLContext\n",
    "from pyspark.sql.types import *\n",
    "from pyspark.sql import Row\n",
    "from pyspark.mllib.regression import LabeledPoint\n",
    "from pyspark.sql.functions import udf\n",
    "from pyspark.mllib.linalg import Vectors\n",
    "from pyspark.ml.classification import LogisticRegression\n",
    "from pyspark.ml.param import Param, Params\n",
    "from pyspark.mllib.classification import LogisticRegressionWithLBFGS, LogisticRegressionModel\n",
    "from pyspark.mllib.regression import LabeledPoint\n",
    "from pyspark.mllib.stat import Statistics\n",
    "from pyspark.ml.feature import OneHotEncoder, StringIndexer\n",
    "from pyspark.mllib.linalg import Vectors\n",
    "from pyspark.ml.feature import VectorAssembler\n",
    "from IPython.display import display\n",
    "from ipywidgets import interact\n",
    "import sys\n",
    "import numpy as np\n",
    "import pandas as pd\n",
    "import time\n",
    "import datetime\n",
    "import matplotlib.pyplot as plt\n",
    "import os.path\n",
    "import pyarrow as pa\n",
    "from pyarrow import csv\n",
    "spark.conf.set(\"spark.sql.execution.arrow.enabled\", \"true\")\n",
    "%matplotlib inline"
   ]
  },
  {
   "cell_type": "markdown",
   "metadata": {},
   "source": [
    "Removing headers of the dataset and renaming it so that further it will be easier for us analyse "
   ]
  },
  {
   "cell_type": "code",
   "execution_count": 7,
   "metadata": {},
   "outputs": [],
   "source": [
    "textFile = sc.textFile('2014_12.csv')\n",
    "textFileRDD = textFile.map(lambda x: x.split(','))\n",
    "header = textFileRDD.first()\n",
    "textRDD = textFileRDD.filter(lambda r: r != header)"
   ]
  },
  {
   "cell_type": "markdown",
   "metadata": {},
   "source": [
    "# Creating the Dataframe from RDD (Resilient Distributed Dataset)"
   ]
  },
  {
   "cell_type": "code",
   "execution_count": 9,
   "metadata": {},
   "outputs": [],
   "source": [
    "def parse(r):\n",
    "    try:\n",
    "        x=Row(Year=int(r[0]),\\\n",
    "          Month=int(r[1]),\\\n",
    "          DayofMonth=int(r[2]),\\\n",
    "          DayOfWeek=int(r[3]),\\\n",
    "          DepTime=int(float(r[8])), \\\n",
    "          CRSDepTime=int(r[7]),\\\n",
    "          ArrTime=int(float(r[11])),\\\n",
    "          CRSArrTime=int(r[10]), \\\n",
    "          UniqueCarrier=r[4],\\\n",
    "          DepDelay=int(float(r[9])),\\\n",
    "          Origin=r[5],\\\n",
    "          Dest=r[6], \\\n",
    "          Distance=int(float(r[12])),\\\n",
    "          CarrierDelay=int(float(r[13])),\\\n",
    "          WeatherDelay=int(float(r[14])),\\\n",
    "          NASDelay= int(float(r[15])),\\\n",
    "          SecurityDelay=int(float(r[16])),\\\n",
    "          LateAircraftDelay=int(float(r[17])))  \n",
    "    except:\n",
    "        x=None  \n",
    "    return x\n",
    "\n",
    "rowRDD = textRDD.map(lambda r: parse(r)).filter(lambda r:r != None)\n",
    "sqlContext = SQLContext(sc)\n",
    "airline_df = sqlContext.createDataFrame(rowRDD)"
   ]
  },
  {
   "cell_type": "markdown",
   "metadata": {},
   "source": [
    "DepDelayed is a new column added to dataframe "
   ]
  },
  {
   "cell_type": "markdown",
   "metadata": {},
   "source": [
    "True for delay > 15 minutes "
   ]
  },
  {
   "cell_type": "markdown",
   "metadata": {},
   "source": [
    "False for delay <=15 minutes"
   ]
  },
  {
   "cell_type": "code",
   "execution_count": 10,
   "metadata": {},
   "outputs": [],
   "source": [
    "airline_df = airline_df.withColumn('DepDelayed', airline_df['DepDelay']>15)"
   ]
  },
  {
   "cell_type": "code",
   "execution_count": 11,
   "metadata": {},
   "outputs": [
    {
     "name": "stderr",
     "output_type": "stream",
     "text": [
      "c:\\Users\\markj\\AppData\\Local\\Programs\\Python\\Python310\\lib\\site-packages\\pyspark\\sql\\dataframe.py:329: FutureWarning: Deprecated in 2.0, use createOrReplaceTempView instead.\n",
      "  warnings.warn(\"Deprecated in 2.0, use createOrReplaceTempView instead.\", FutureWarning)\n"
     ]
    }
   ],
   "source": [
    "# define hour function to obtain hour of day\n",
    "def hour_ex(x): \n",
    "    h = int(str(int(x)).zfill(4)[:2])\n",
    "    return h\n",
    "\n",
    "# register as a UDF \n",
    "sqlContext.udf.register(\"hour_ex_py\",hour_ex, IntegerType())\n",
    "f_udf = udf(hour_ex, IntegerType())\n",
    "\n",
    "#CRSDepTime: scheduled departure time (local, hhmm)\n",
    "airline_df = airline_df.withColumn('hour', f_udf(airline_df.CRSDepTime))\n",
    "airline_df.registerTempTable(\"airlineDF\")"
   ]
  },
  {
   "cell_type": "code",
   "execution_count": 12,
   "metadata": {},
   "outputs": [
    {
     "data": {
      "text/plain": [
       "[Row(Year=2014, Month=12, DayofMonth=9, DayOfWeek=2, DepTime=1113, CRSDepTime=1050, ArrTime=1329, CRSArrTime=1310, UniqueCarrier='AA', DepDelay=23, Origin='DFW', Dest='MSP', Distance=852, CarrierDelay=0, WeatherDelay=0, NASDelay=0, SecurityDelay=0, LateAircraftDelay=19, DepDelayed=True, hour=10),\n",
       " Row(Year=2014, Month=12, DayofMonth=12, DayOfWeek=5, DepTime=1057, CRSDepTime=1050, ArrTime=1332, CRSArrTime=1310, UniqueCarrier='AA', DepDelay=7, Origin='DFW', Dest='MSP', Distance=852, CarrierDelay=2, WeatherDelay=0, NASDelay=15, SecurityDelay=0, LateAircraftDelay=5, DepDelayed=False, hour=10),\n",
       " Row(Year=2014, Month=12, DayofMonth=20, DayOfWeek=6, DepTime=1143, CRSDepTime=1050, ArrTime=1400, CRSArrTime=1310, UniqueCarrier='AA', DepDelay=53, Origin='DFW', Dest='MSP', Distance=852, CarrierDelay=3, WeatherDelay=0, NASDelay=0, SecurityDelay=0, LateAircraftDelay=47, DepDelayed=True, hour=10),\n",
       " Row(Year=2014, Month=12, DayofMonth=22, DayOfWeek=1, DepTime=1105, CRSDepTime=1050, ArrTime=1330, CRSArrTime=1310, UniqueCarrier='AA', DepDelay=15, Origin='DFW', Dest='MSP', Distance=852, CarrierDelay=0, WeatherDelay=0, NASDelay=5, SecurityDelay=0, LateAircraftDelay=15, DepDelayed=False, hour=10),\n",
       " Row(Year=2014, Month=12, DayofMonth=27, DayOfWeek=6, DepTime=1136, CRSDepTime=1050, ArrTime=1337, CRSArrTime=1310, UniqueCarrier='AA', DepDelay=46, Origin='DFW', Dest='MSP', Distance=852, CarrierDelay=27, WeatherDelay=0, NASDelay=0, SecurityDelay=0, LateAircraftDelay=0, DepDelayed=True, hour=10)]"
      ]
     },
     "execution_count": 12,
     "metadata": {},
     "output_type": "execute_result"
    }
   ],
   "source": [
    "airline_df.head(n=5)"
   ]
  },
  {
   "cell_type": "markdown",
   "metadata": {},
   "source": [
    "# Exploration: What are the primary causes for flight delays"
   ]
  },
  {
   "cell_type": "code",
   "execution_count": 13,
   "metadata": {},
   "outputs": [],
   "source": [
    "cause_delay = sqlContext.sql(\"SELECT sum(WeatherDelay) Weather,sum(NASDelay) NAS,sum(SecurityDelay) Security,sum(LateAircraftDelay) lateAircraft,sum(CarrierDelay) Carrier\\\n",
    "                              FROM airlineDF \")"
   ]
  },
  {
   "cell_type": "code",
   "execution_count": 14,
   "metadata": {},
   "outputs": [
    {
     "data": {
      "text/html": [
       "<div>\n",
       "<style scoped>\n",
       "    .dataframe tbody tr th:only-of-type {\n",
       "        vertical-align: middle;\n",
       "    }\n",
       "\n",
       "    .dataframe tbody tr th {\n",
       "        vertical-align: top;\n",
       "    }\n",
       "\n",
       "    .dataframe thead th {\n",
       "        text-align: right;\n",
       "    }\n",
       "</style>\n",
       "<table border=\"1\" class=\"dataframe\">\n",
       "  <thead>\n",
       "    <tr style=\"text-align: right;\">\n",
       "      <th></th>\n",
       "      <th>Weather</th>\n",
       "      <th>NAS</th>\n",
       "      <th>Security</th>\n",
       "      <th>lateAircraft</th>\n",
       "      <th>Carrier</th>\n",
       "    </tr>\n",
       "  </thead>\n",
       "  <tbody>\n",
       "    <tr>\n",
       "      <th>0</th>\n",
       "      <td>141765</td>\n",
       "      <td>1416790</td>\n",
       "      <td>7130</td>\n",
       "      <td>2519320</td>\n",
       "      <td>1866220</td>\n",
       "    </tr>\n",
       "  </tbody>\n",
       "</table>\n",
       "</div>"
      ],
      "text/plain": [
       "   Weather      NAS  Security  lateAircraft  Carrier\n",
       "0   141765  1416790      7130       2519320  1866220"
      ]
     },
     "execution_count": 14,
     "metadata": {},
     "output_type": "execute_result"
    }
   ],
   "source": [
    "df_cause_delay = cause_delay.toPandas()\n",
    "df_cause_delay.head()"
   ]
  },
  {
   "cell_type": "markdown",
   "metadata": {},
   "source": [
    "# Exploration: Which Airports have the Most Delays?"
   ]
  },
  {
   "cell_type": "code",
   "execution_count": 15,
   "metadata": {},
   "outputs": [
    {
     "data": {
      "text/html": [
       "<div>\n",
       "<style scoped>\n",
       "    .dataframe tbody tr th:only-of-type {\n",
       "        vertical-align: middle;\n",
       "    }\n",
       "\n",
       "    .dataframe tbody tr th {\n",
       "        vertical-align: top;\n",
       "    }\n",
       "\n",
       "    .dataframe thead th {\n",
       "        text-align: right;\n",
       "    }\n",
       "</style>\n",
       "<table border=\"1\" class=\"dataframe\">\n",
       "  <thead>\n",
       "    <tr style=\"text-align: right;\">\n",
       "      <th></th>\n",
       "      <th>Origin</th>\n",
       "      <th>conFlight</th>\n",
       "      <th>delay</th>\n",
       "    </tr>\n",
       "  </thead>\n",
       "  <tbody>\n",
       "    <tr>\n",
       "      <th>89</th>\n",
       "      <td>BJI</td>\n",
       "      <td>6</td>\n",
       "      <td>143.500000</td>\n",
       "    </tr>\n",
       "    <tr>\n",
       "      <th>20</th>\n",
       "      <td>MQT</td>\n",
       "      <td>9</td>\n",
       "      <td>130.888889</td>\n",
       "    </tr>\n",
       "    <tr>\n",
       "      <th>197</th>\n",
       "      <td>GUC</td>\n",
       "      <td>25</td>\n",
       "      <td>124.960000</td>\n",
       "    </tr>\n",
       "    <tr>\n",
       "      <th>33</th>\n",
       "      <td>HLN</td>\n",
       "      <td>9</td>\n",
       "      <td>119.222222</td>\n",
       "    </tr>\n",
       "    <tr>\n",
       "      <th>72</th>\n",
       "      <td>RDD</td>\n",
       "      <td>29</td>\n",
       "      <td>114.413793</td>\n",
       "    </tr>\n",
       "  </tbody>\n",
       "</table>\n",
       "</div>"
      ],
      "text/plain": [
       "    Origin  conFlight       delay\n",
       "89     BJI          6  143.500000\n",
       "20     MQT          9  130.888889\n",
       "197    GUC         25  124.960000\n",
       "33     HLN          9  119.222222\n",
       "72     RDD         29  114.413793"
      ]
     },
     "execution_count": 15,
     "metadata": {},
     "output_type": "execute_result"
    }
   ],
   "source": [
    "groupedDelay = sqlContext.sql(\"SELECT Origin, count(*) conFlight,avg(DepDelay) delay \\\n",
    "                                FROM airlineDF \\\n",
    "                                GROUP BY Origin\")\n",
    "\n",
    "df_origin = groupedDelay.toPandas()\n",
    "df_origin.sort_values('delay',ascending=0).head()"
   ]
  },
  {
   "cell_type": "markdown",
   "metadata": {},
   "source": [
    "Mapping each Airport to corresponding Long and Lat,load the dataset needed from \"airport.dat\""
   ]
  },
  {
   "cell_type": "code",
   "execution_count": 16,
   "metadata": {},
   "outputs": [
    {
     "data": {
      "text/html": [
       "<div>\n",
       "<style scoped>\n",
       "    .dataframe tbody tr th:only-of-type {\n",
       "        vertical-align: middle;\n",
       "    }\n",
       "\n",
       "    .dataframe tbody tr th {\n",
       "        vertical-align: top;\n",
       "    }\n",
       "\n",
       "    .dataframe thead th {\n",
       "        text-align: right;\n",
       "    }\n",
       "</style>\n",
       "<table border=\"1\" class=\"dataframe\">\n",
       "  <thead>\n",
       "    <tr style=\"text-align: right;\">\n",
       "      <th></th>\n",
       "      <th>name</th>\n",
       "      <th>city</th>\n",
       "      <th>country</th>\n",
       "      <th>IATA</th>\n",
       "      <th>ICAO</th>\n",
       "      <th>lat</th>\n",
       "      <th>lng</th>\n",
       "      <th>alt</th>\n",
       "      <th>TZone</th>\n",
       "      <th>DST</th>\n",
       "      <th>Tz</th>\n",
       "    </tr>\n",
       "  </thead>\n",
       "  <tbody>\n",
       "    <tr>\n",
       "      <th>2</th>\n",
       "      <td>Madang Airport</td>\n",
       "      <td>Madang</td>\n",
       "      <td>Papua New Guinea</td>\n",
       "      <td>MAG</td>\n",
       "      <td>AYMD</td>\n",
       "      <td>-5.207080</td>\n",
       "      <td>145.789001</td>\n",
       "      <td>20</td>\n",
       "      <td>10</td>\n",
       "      <td>U</td>\n",
       "      <td>Pacific/Port_Moresby</td>\n",
       "    </tr>\n",
       "    <tr>\n",
       "      <th>3</th>\n",
       "      <td>Mount Hagen Kagamuga Airport</td>\n",
       "      <td>Mount Hagen</td>\n",
       "      <td>Papua New Guinea</td>\n",
       "      <td>HGU</td>\n",
       "      <td>AYMH</td>\n",
       "      <td>-5.826790</td>\n",
       "      <td>144.296005</td>\n",
       "      <td>5388</td>\n",
       "      <td>10</td>\n",
       "      <td>U</td>\n",
       "      <td>Pacific/Port_Moresby</td>\n",
       "    </tr>\n",
       "    <tr>\n",
       "      <th>4</th>\n",
       "      <td>Nadzab Airport</td>\n",
       "      <td>Nadzab</td>\n",
       "      <td>Papua New Guinea</td>\n",
       "      <td>LAE</td>\n",
       "      <td>AYNZ</td>\n",
       "      <td>-6.569803</td>\n",
       "      <td>146.725977</td>\n",
       "      <td>239</td>\n",
       "      <td>10</td>\n",
       "      <td>U</td>\n",
       "      <td>Pacific/Port_Moresby</td>\n",
       "    </tr>\n",
       "    <tr>\n",
       "      <th>5</th>\n",
       "      <td>Port Moresby Jacksons International Airport</td>\n",
       "      <td>Port Moresby</td>\n",
       "      <td>Papua New Guinea</td>\n",
       "      <td>POM</td>\n",
       "      <td>AYPY</td>\n",
       "      <td>-9.443380</td>\n",
       "      <td>147.220001</td>\n",
       "      <td>146</td>\n",
       "      <td>10</td>\n",
       "      <td>U</td>\n",
       "      <td>Pacific/Port_Moresby</td>\n",
       "    </tr>\n",
       "    <tr>\n",
       "      <th>6</th>\n",
       "      <td>Wewak International Airport</td>\n",
       "      <td>Wewak</td>\n",
       "      <td>Papua New Guinea</td>\n",
       "      <td>WWK</td>\n",
       "      <td>AYWK</td>\n",
       "      <td>-3.583830</td>\n",
       "      <td>143.669006</td>\n",
       "      <td>19</td>\n",
       "      <td>10</td>\n",
       "      <td>U</td>\n",
       "      <td>Pacific/Port_Moresby</td>\n",
       "    </tr>\n",
       "  </tbody>\n",
       "</table>\n",
       "</div>"
      ],
      "text/plain": [
       "                                          name          city  \\\n",
       "2                               Madang Airport        Madang   \n",
       "3                 Mount Hagen Kagamuga Airport   Mount Hagen   \n",
       "4                               Nadzab Airport        Nadzab   \n",
       "5  Port Moresby Jacksons International Airport  Port Moresby   \n",
       "6                  Wewak International Airport         Wewak   \n",
       "\n",
       "            country IATA  ICAO       lat         lng   alt TZone DST  \\\n",
       "2  Papua New Guinea  MAG  AYMD -5.207080  145.789001    20    10   U   \n",
       "3  Papua New Guinea  HGU  AYMH -5.826790  144.296005  5388    10   U   \n",
       "4  Papua New Guinea  LAE  AYNZ -6.569803  146.725977   239    10   U   \n",
       "5  Papua New Guinea  POM  AYPY -9.443380  147.220001   146    10   U   \n",
       "6  Papua New Guinea  WWK  AYWK -3.583830  143.669006    19    10   U   \n",
       "\n",
       "                     Tz  \n",
       "2  Pacific/Port_Moresby  \n",
       "3  Pacific/Port_Moresby  \n",
       "4  Pacific/Port_Moresby  \n",
       "5  Pacific/Port_Moresby  \n",
       "6  Pacific/Port_Moresby  "
      ]
     },
     "execution_count": 16,
     "metadata": {},
     "output_type": "execute_result"
    }
   ],
   "source": [
    "df = pd.read_csv('airports.dat', index_col=0,\\\n",
    "names = ['name', 'city', 'country','IATA','ICAO','lat','lng','alt','TZone','DST','Tz','air','Ourair'], \\\n",
    "            header=0)\n",
    "del df['air']\n",
    "del df['Ourair']\n",
    "df.head()"
   ]
  },
  {
   "cell_type": "code",
   "execution_count": 21,
   "metadata": {},
   "outputs": [
    {
     "data": {
      "text/html": [
       "<div>\n",
       "<style scoped>\n",
       "    .dataframe tbody tr th:only-of-type {\n",
       "        vertical-align: middle;\n",
       "    }\n",
       "\n",
       "    .dataframe tbody tr th {\n",
       "        vertical-align: top;\n",
       "    }\n",
       "\n",
       "    .dataframe thead th {\n",
       "        text-align: right;\n",
       "    }\n",
       "</style>\n",
       "<table border=\"1\" class=\"dataframe\">\n",
       "  <thead>\n",
       "    <tr style=\"text-align: right;\">\n",
       "      <th></th>\n",
       "      <th>Origin</th>\n",
       "      <th>conFlight</th>\n",
       "      <th>delay</th>\n",
       "      <th>name</th>\n",
       "      <th>city</th>\n",
       "      <th>country</th>\n",
       "      <th>IATA</th>\n",
       "      <th>ICAO</th>\n",
       "      <th>lat</th>\n",
       "      <th>lng</th>\n",
       "      <th>alt</th>\n",
       "      <th>TZone</th>\n",
       "      <th>DST</th>\n",
       "      <th>Tz</th>\n",
       "    </tr>\n",
       "  </thead>\n",
       "  <tbody>\n",
       "    <tr>\n",
       "      <th>0</th>\n",
       "      <td>INL</td>\n",
       "      <td>13</td>\n",
       "      <td>41.692308</td>\n",
       "      <td>Falls International Airport</td>\n",
       "      <td>International Falls</td>\n",
       "      <td>United States</td>\n",
       "      <td>INL</td>\n",
       "      <td>KINL</td>\n",
       "      <td>48.566200</td>\n",
       "      <td>-93.403099</td>\n",
       "      <td>1185</td>\n",
       "      <td>-6</td>\n",
       "      <td>A</td>\n",
       "      <td>America/Chicago</td>\n",
       "    </tr>\n",
       "    <tr>\n",
       "      <th>1</th>\n",
       "      <td>PSE</td>\n",
       "      <td>2</td>\n",
       "      <td>38.500000</td>\n",
       "      <td>Mercedita Airport</td>\n",
       "      <td>Ponce</td>\n",
       "      <td>Puerto Rico</td>\n",
       "      <td>PSE</td>\n",
       "      <td>TJPS</td>\n",
       "      <td>18.008301</td>\n",
       "      <td>-66.563004</td>\n",
       "      <td>29</td>\n",
       "      <td>-4</td>\n",
       "      <td>U</td>\n",
       "      <td>America/Puerto_Rico</td>\n",
       "    </tr>\n",
       "    <tr>\n",
       "      <th>2</th>\n",
       "      <td>MSY</td>\n",
       "      <td>558</td>\n",
       "      <td>61.973118</td>\n",
       "      <td>Louis Armstrong New Orleans International Airport</td>\n",
       "      <td>New Orleans</td>\n",
       "      <td>United States</td>\n",
       "      <td>MSY</td>\n",
       "      <td>KMSY</td>\n",
       "      <td>29.993401</td>\n",
       "      <td>-90.258003</td>\n",
       "      <td>4</td>\n",
       "      <td>-6</td>\n",
       "      <td>A</td>\n",
       "      <td>America/Chicago</td>\n",
       "    </tr>\n",
       "    <tr>\n",
       "      <th>3</th>\n",
       "      <td>PPG</td>\n",
       "      <td>3</td>\n",
       "      <td>28.666667</td>\n",
       "      <td>Pago Pago International Airport</td>\n",
       "      <td>Pago Pago</td>\n",
       "      <td>American Samoa</td>\n",
       "      <td>PPG</td>\n",
       "      <td>NSTU</td>\n",
       "      <td>-14.331000</td>\n",
       "      <td>-170.710007</td>\n",
       "      <td>32</td>\n",
       "      <td>-11</td>\n",
       "      <td>U</td>\n",
       "      <td>Pacific/Pago_Pago</td>\n",
       "    </tr>\n",
       "    <tr>\n",
       "      <th>4</th>\n",
       "      <td>GEG</td>\n",
       "      <td>152</td>\n",
       "      <td>52.118421</td>\n",
       "      <td>Spokane International Airport</td>\n",
       "      <td>Spokane</td>\n",
       "      <td>United States</td>\n",
       "      <td>GEG</td>\n",
       "      <td>KGEG</td>\n",
       "      <td>47.619900</td>\n",
       "      <td>-117.533997</td>\n",
       "      <td>2376</td>\n",
       "      <td>-8</td>\n",
       "      <td>A</td>\n",
       "      <td>America/Los_Angeles</td>\n",
       "    </tr>\n",
       "  </tbody>\n",
       "</table>\n",
       "</div>"
      ],
      "text/plain": [
       "  Origin  conFlight      delay  \\\n",
       "0    INL         13  41.692308   \n",
       "1    PSE          2  38.500000   \n",
       "2    MSY        558  61.973118   \n",
       "3    PPG          3  28.666667   \n",
       "4    GEG        152  52.118421   \n",
       "\n",
       "                                                name                 city  \\\n",
       "0                        Falls International Airport  International Falls   \n",
       "1                                  Mercedita Airport                Ponce   \n",
       "2  Louis Armstrong New Orleans International Airport          New Orleans   \n",
       "3                    Pago Pago International Airport            Pago Pago   \n",
       "4                      Spokane International Airport              Spokane   \n",
       "\n",
       "          country IATA  ICAO        lat         lng   alt TZone DST  \\\n",
       "0   United States  INL  KINL  48.566200  -93.403099  1185    -6   A   \n",
       "1     Puerto Rico  PSE  TJPS  18.008301  -66.563004    29    -4   U   \n",
       "2   United States  MSY  KMSY  29.993401  -90.258003     4    -6   A   \n",
       "3  American Samoa  PPG  NSTU -14.331000 -170.710007    32   -11   U   \n",
       "4   United States  GEG  KGEG  47.619900 -117.533997  2376    -8   A   \n",
       "\n",
       "                    Tz  \n",
       "0      America/Chicago  \n",
       "1  America/Puerto_Rico  \n",
       "2      America/Chicago  \n",
       "3    Pacific/Pago_Pago  \n",
       "4  America/Los_Angeles  "
      ]
     },
     "execution_count": 21,
     "metadata": {},
     "output_type": "execute_result"
    }
   ],
   "source": [
    "df_airports = pd.merge(df_origin, df, left_on = 'Origin', right_on = 'IATA')\n",
    "df_airports.head()"
   ]
  },
  {
   "cell_type": "code",
   "execution_count": 22,
   "metadata": {},
   "outputs": [
    {
     "data": {
      "text/html": [
       "<div>\n",
       "<style scoped>\n",
       "    .dataframe tbody tr th:only-of-type {\n",
       "        vertical-align: middle;\n",
       "    }\n",
       "\n",
       "    .dataframe tbody tr th {\n",
       "        vertical-align: top;\n",
       "    }\n",
       "\n",
       "    .dataframe thead th {\n",
       "        text-align: right;\n",
       "    }\n",
       "</style>\n",
       "<table border=\"1\" class=\"dataframe\">\n",
       "  <thead>\n",
       "    <tr style=\"text-align: right;\">\n",
       "      <th></th>\n",
       "      <th>Origin</th>\n",
       "      <th>conFlight</th>\n",
       "      <th>delay</th>\n",
       "      <th>name</th>\n",
       "      <th>city</th>\n",
       "      <th>country</th>\n",
       "      <th>IATA</th>\n",
       "      <th>ICAO</th>\n",
       "      <th>lat</th>\n",
       "      <th>lng</th>\n",
       "      <th>alt</th>\n",
       "      <th>TZone</th>\n",
       "      <th>DST</th>\n",
       "      <th>Tz</th>\n",
       "    </tr>\n",
       "  </thead>\n",
       "  <tbody>\n",
       "    <tr>\n",
       "      <th>89</th>\n",
       "      <td>BJI</td>\n",
       "      <td>6</td>\n",
       "      <td>143.500000</td>\n",
       "      <td>Bemidji Regional Airport</td>\n",
       "      <td>Bemidji</td>\n",
       "      <td>United States</td>\n",
       "      <td>BJI</td>\n",
       "      <td>KBJI</td>\n",
       "      <td>47.509399</td>\n",
       "      <td>-94.933701</td>\n",
       "      <td>1391</td>\n",
       "      <td>-6</td>\n",
       "      <td>A</td>\n",
       "      <td>America/Chicago</td>\n",
       "    </tr>\n",
       "    <tr>\n",
       "      <th>20</th>\n",
       "      <td>MQT</td>\n",
       "      <td>9</td>\n",
       "      <td>130.888889</td>\n",
       "      <td>Sawyer International Airport</td>\n",
       "      <td>Gwinn</td>\n",
       "      <td>United States</td>\n",
       "      <td>MQT</td>\n",
       "      <td>KSAW</td>\n",
       "      <td>46.353600</td>\n",
       "      <td>-87.395401</td>\n",
       "      <td>1221</td>\n",
       "      <td>-5</td>\n",
       "      <td>A</td>\n",
       "      <td>America/New_York</td>\n",
       "    </tr>\n",
       "    <tr>\n",
       "      <th>197</th>\n",
       "      <td>GUC</td>\n",
       "      <td>25</td>\n",
       "      <td>124.960000</td>\n",
       "      <td>Gunnison Crested Butte Regional Airport</td>\n",
       "      <td>Gunnison</td>\n",
       "      <td>United States</td>\n",
       "      <td>GUC</td>\n",
       "      <td>KGUC</td>\n",
       "      <td>38.533901</td>\n",
       "      <td>-106.932999</td>\n",
       "      <td>7680</td>\n",
       "      <td>-7</td>\n",
       "      <td>A</td>\n",
       "      <td>America/Denver</td>\n",
       "    </tr>\n",
       "    <tr>\n",
       "      <th>33</th>\n",
       "      <td>HLN</td>\n",
       "      <td>9</td>\n",
       "      <td>119.222222</td>\n",
       "      <td>Helena Regional Airport</td>\n",
       "      <td>Helena</td>\n",
       "      <td>United States</td>\n",
       "      <td>HLN</td>\n",
       "      <td>KHLN</td>\n",
       "      <td>46.606800</td>\n",
       "      <td>-111.983002</td>\n",
       "      <td>3877</td>\n",
       "      <td>-7</td>\n",
       "      <td>A</td>\n",
       "      <td>America/Denver</td>\n",
       "    </tr>\n",
       "    <tr>\n",
       "      <th>72</th>\n",
       "      <td>RDD</td>\n",
       "      <td>29</td>\n",
       "      <td>114.413793</td>\n",
       "      <td>Redding Municipal Airport</td>\n",
       "      <td>Redding</td>\n",
       "      <td>United States</td>\n",
       "      <td>RDD</td>\n",
       "      <td>KRDD</td>\n",
       "      <td>40.508999</td>\n",
       "      <td>-122.292999</td>\n",
       "      <td>505</td>\n",
       "      <td>-8</td>\n",
       "      <td>A</td>\n",
       "      <td>America/Los_Angeles</td>\n",
       "    </tr>\n",
       "  </tbody>\n",
       "</table>\n",
       "</div>"
      ],
      "text/plain": [
       "    Origin  conFlight       delay                                     name  \\\n",
       "89     BJI          6  143.500000                 Bemidji Regional Airport   \n",
       "20     MQT          9  130.888889             Sawyer International Airport   \n",
       "197    GUC         25  124.960000  Gunnison Crested Butte Regional Airport   \n",
       "33     HLN          9  119.222222                  Helena Regional Airport   \n",
       "72     RDD         29  114.413793                Redding Municipal Airport   \n",
       "\n",
       "         city        country IATA  ICAO        lat         lng   alt TZone  \\\n",
       "89    Bemidji  United States  BJI  KBJI  47.509399  -94.933701  1391    -6   \n",
       "20      Gwinn  United States  MQT  KSAW  46.353600  -87.395401  1221    -5   \n",
       "197  Gunnison  United States  GUC  KGUC  38.533901 -106.932999  7680    -7   \n",
       "33     Helena  United States  HLN  KHLN  46.606800 -111.983002  3877    -7   \n",
       "72    Redding  United States  RDD  KRDD  40.508999 -122.292999   505    -8   \n",
       "\n",
       "    DST                   Tz  \n",
       "89    A      America/Chicago  \n",
       "20    A     America/New_York  \n",
       "197   A       America/Denver  \n",
       "33    A       America/Denver  \n",
       "72    A  America/Los_Angeles  "
      ]
     },
     "execution_count": 22,
     "metadata": {},
     "output_type": "execute_result"
    }
   ],
   "source": [
    "df_airports.sort_values('delay',ascending=0).head()"
   ]
  },
  {
   "cell_type": "markdown",
   "metadata": {},
   "source": [
    "The main reason why we use sigmoid function is because it exists between (0 to 1).\n",
    "Therefore, it is especially used for models where we have to predict the probability as an output.\n",
    "Since probability of anything exists only between the range of 0 and 1\n",
    "\n",
    "A Z-score is a numerical measurement that describes a value's relationship to the mean of a group of values. Z-score is measured in terms of standard deviations from the mean. If a Z-score is 0, it indicates that the data point's score is identical to the mean score."
   ]
  },
  {
   "cell_type": "code",
   "execution_count": 23,
   "metadata": {},
   "outputs": [],
   "source": [
    "def sigmoid(x):\n",
    "    return 1 / (1 + np.exp(-x))\n",
    "\n",
    "def zscore(x):\n",
    "    return (x-np.average(x))/np.std(x)"
   ]
  },
  {
   "cell_type": "code",
   "execution_count": 24,
   "metadata": {},
   "outputs": [],
   "source": [
    "import os\n",
    "os.environ['PROJ_LIB'] = r'C:\\Users\\spl2s\\anaconda3\\pkgs\\proj4-5.2.0-\\\n",
    "ha925a31_1\\Library\\share'"
   ]
  },
  {
   "cell_type": "code",
   "execution_count": 25,
   "metadata": {},
   "outputs": [],
   "source": [
    "\n",
    "import matplotlib.pyplot as plt\n",
    "from pylab import rcParams\n",
    "%matplotlib inline"
   ]
  },
  {
   "cell_type": "markdown",
   "metadata": {},
   "source": [
    "# Plotting Map"
   ]
  },
  {
   "cell_type": "markdown",
   "metadata": {},
   "source": [
    "# Which Routes are typically the most delayed?"
   ]
  },
  {
   "cell_type": "code",
   "execution_count": 26,
   "metadata": {},
   "outputs": [],
   "source": [
    "grp_rout_Delay = sqlContext.sql(\"SELECT Origin, Dest, count(*) traffic,avg(Distance) avgDist,\\\n",
    "                                    avg(DepDelay) avgDelay\\\n",
    "                                FROM airlineDF \\\n",
    "                                GROUP BY Origin,Dest\")\n",
    "rout_Delay = grp_rout_Delay.toPandas()"
   ]
  },
  {
   "cell_type": "code",
   "execution_count": 27,
   "metadata": {},
   "outputs": [
    {
     "data": {
      "text/html": [
       "<div>\n",
       "<style scoped>\n",
       "    .dataframe tbody tr th:only-of-type {\n",
       "        vertical-align: middle;\n",
       "    }\n",
       "\n",
       "    .dataframe tbody tr th {\n",
       "        vertical-align: top;\n",
       "    }\n",
       "\n",
       "    .dataframe thead th {\n",
       "        text-align: right;\n",
       "    }\n",
       "</style>\n",
       "<table border=\"1\" class=\"dataframe\">\n",
       "  <thead>\n",
       "    <tr style=\"text-align: right;\">\n",
       "      <th></th>\n",
       "      <th>Origin</th>\n",
       "      <th>lat_x</th>\n",
       "      <th>lng_x</th>\n",
       "      <th>Dest</th>\n",
       "      <th>lat_y</th>\n",
       "      <th>lng_y</th>\n",
       "      <th>avgDelay</th>\n",
       "      <th>traffic</th>\n",
       "    </tr>\n",
       "  </thead>\n",
       "  <tbody>\n",
       "    <tr>\n",
       "      <th>1286</th>\n",
       "      <td>JAC</td>\n",
       "      <td>43.607300</td>\n",
       "      <td>-110.737999</td>\n",
       "      <td>ATL</td>\n",
       "      <td>33.636700</td>\n",
       "      <td>-84.428101</td>\n",
       "      <td>421.666667</td>\n",
       "      <td>3</td>\n",
       "    </tr>\n",
       "    <tr>\n",
       "      <th>743</th>\n",
       "      <td>PSP</td>\n",
       "      <td>33.829700</td>\n",
       "      <td>-116.507004</td>\n",
       "      <td>MSP</td>\n",
       "      <td>44.882000</td>\n",
       "      <td>-93.221802</td>\n",
       "      <td>372.333333</td>\n",
       "      <td>3</td>\n",
       "    </tr>\n",
       "    <tr>\n",
       "      <th>2540</th>\n",
       "      <td>JFK</td>\n",
       "      <td>40.639801</td>\n",
       "      <td>-73.778900</td>\n",
       "      <td>EGE</td>\n",
       "      <td>39.642601</td>\n",
       "      <td>-106.917999</td>\n",
       "      <td>367.200000</td>\n",
       "      <td>5</td>\n",
       "    </tr>\n",
       "    <tr>\n",
       "      <th>705</th>\n",
       "      <td>HLN</td>\n",
       "      <td>46.606800</td>\n",
       "      <td>-111.983002</td>\n",
       "      <td>DEN</td>\n",
       "      <td>39.861698</td>\n",
       "      <td>-104.672997</td>\n",
       "      <td>343.500000</td>\n",
       "      <td>2</td>\n",
       "    </tr>\n",
       "    <tr>\n",
       "      <th>786</th>\n",
       "      <td>RDU</td>\n",
       "      <td>35.877602</td>\n",
       "      <td>-78.787498</td>\n",
       "      <td>MSP</td>\n",
       "      <td>44.882000</td>\n",
       "      <td>-93.221802</td>\n",
       "      <td>314.000000</td>\n",
       "      <td>4</td>\n",
       "    </tr>\n",
       "  </tbody>\n",
       "</table>\n",
       "</div>"
      ],
      "text/plain": [
       "     Origin      lat_x       lng_x Dest      lat_y       lng_y    avgDelay  \\\n",
       "1286    JAC  43.607300 -110.737999  ATL  33.636700  -84.428101  421.666667   \n",
       "743     PSP  33.829700 -116.507004  MSP  44.882000  -93.221802  372.333333   \n",
       "2540    JFK  40.639801  -73.778900  EGE  39.642601 -106.917999  367.200000   \n",
       "705     HLN  46.606800 -111.983002  DEN  39.861698 -104.672997  343.500000   \n",
       "786     RDU  35.877602  -78.787498  MSP  44.882000  -93.221802  314.000000   \n",
       "\n",
       "      traffic  \n",
       "1286        3  \n",
       "743         3  \n",
       "2540        5  \n",
       "705         2  \n",
       "786         4  "
      ]
     },
     "execution_count": 27,
     "metadata": {},
     "output_type": "execute_result"
    }
   ],
   "source": [
    "df_airport_rout1 = pd.merge(rout_Delay, df, left_on = 'Origin', right_on = 'IATA')\n",
    "df_airport_rout2 = pd.merge(df_airport_rout1, df, left_on = 'Dest', right_on = 'IATA')\n",
    "df_airport_rout = df_airport_rout2[[\"Origin\",\"lat_x\",\"lng_x\",\"Dest\",\"lat_y\",\"lng_y\",\\\n",
    "                                    \"avgDelay\", \"traffic\"]]\n",
    "df_airport_rout.sort_values('avgDelay',ascending=0).head()"
   ]
  },
  {
   "cell_type": "markdown",
   "metadata": {},
   "source": [
    "# Exploration : Airport Origin delay per month"
   ]
  },
  {
   "cell_type": "code",
   "execution_count": 28,
   "metadata": {},
   "outputs": [],
   "source": [
    "Origin_Airport=\"SJC\""
   ]
  },
  {
   "cell_type": "code",
   "execution_count": 29,
   "metadata": {},
   "outputs": [
    {
     "name": "stderr",
     "output_type": "stream",
     "text": [
      "c:\\Users\\markj\\AppData\\Local\\Programs\\Python\\Python310\\lib\\site-packages\\pyspark\\sql\\dataframe.py:329: FutureWarning: Deprecated in 2.0, use createOrReplaceTempView instead.\n",
      "  warnings.warn(\"Deprecated in 2.0, use createOrReplaceTempView instead.\", FutureWarning)\n"
     ]
    },
    {
     "name": "stdout",
     "output_type": "stream",
     "text": [
      "+-------+----------+----------+---------+----------+--------+-------+----+\n",
      "|ArrTime|CRSArrTime|CRSDepTime|DayOfWeek|DayofMonth|DepDelay|DepTime|Dest|\n",
      "+-------+----------+----------+---------+----------+--------+-------+----+\n",
      "|   2107|      2031|      1850|        2|         2|      43|   1933| PDX|\n",
      "|   1604|      1539|      1355|        2|         2|      37|   1432| PDX|\n",
      "+-------+----------+----------+---------+----------+--------+-------+----+\n",
      "only showing top 2 rows\n",
      "\n"
     ]
    }
   ],
   "source": [
    "df_ORG = sqlContext.sql(\"SELECT * from airlineDF WHERE origin='\"+ Origin_Airport+\"'\")\n",
    "df_ORG.registerTempTable(\"df_ORG\")\n",
    "df_ORG.select('ArrTime','CRSArrTime','CRSDepTime',\\\n",
    "              'DayOfWeek','DayofMonth','DepDelay','DepTime','Dest').show(2)"
   ]
  },
  {
   "cell_type": "code",
   "execution_count": 30,
   "metadata": {},
   "outputs": [
    {
     "name": "stdout",
     "output_type": "stream",
     "text": [
      "total flights from this ariport: 968\n"
     ]
    }
   ],
   "source": [
    "print(\"total flights from this ariport: \" + str(df_ORG.count()))"
   ]
  },
  {
   "cell_type": "code",
   "execution_count": 31,
   "metadata": {},
   "outputs": [],
   "source": [
    "grp_carr = sqlContext.sql(\"SELECT  UniqueCarrier,month, avg(DepDelay) avgDelay from df_ORG \\\n",
    "                            WHERE DepDelayed=True \\\n",
    "                            GROUP BY UniqueCarrier,month\")\n",
    "s = grp_carr.toPandas()"
   ]
  },
  {
   "cell_type": "code",
   "execution_count": 32,
   "metadata": {},
   "outputs": [],
   "source": [
    "ps = s.pivot(index='month', columns='UniqueCarrier', values='avgDelay')[['AA','UA','US']]"
   ]
  },
  {
   "cell_type": "code",
   "execution_count": 33,
   "metadata": {},
   "outputs": [
    {
     "data": {
      "text/plain": [
       "Text(0.5, 1.0, 'How much delay does each carrier has in each month?')"
      ]
     },
     "execution_count": 33,
     "metadata": {},
     "output_type": "execute_result"
    },
    {
     "data": {
      "image/png": "[encoded data removed]",
      "text/plain": [
       "<Figure size 576x360 with 1 Axes>"
      ]
     },
     "metadata": {
      "needs_background": "light"
     },
     "output_type": "display_data"
    }
   ],
   "source": [
    "rcParams['figure.figsize'] = (8,5)\n",
    "ps.plot(kind='bar', colormap='Greens');\n",
    "plt.xlabel('Month')\n",
    "plt.ylabel('Average')\n",
    "plt.title('How much delay does each carrier has in each month?')"
   ]
  },
  {
   "cell_type": "markdown",
   "metadata": {},
   "source": [
    "# Airport Origin delay per day/hour"
   ]
  },
  {
   "cell_type": "code",
   "execution_count": 34,
   "metadata": {},
   "outputs": [],
   "source": [
    "hour_grouped = df_ORG.filter(df_ORG['DepDelayed']).select('DayOfWeek','hour','DepDelay').groupby('DayOfWeek','hour').mean('DepDelay')"
   ]
  },
  {
   "cell_type": "code",
   "execution_count": 38,
   "metadata": {},
   "outputs": [
    {
     "data": {
      "image/png": "[encoded data removed]",
      "text/plain": [
       "<Figure size 720x360 with 2 Axes>"
      ]
     },
     "metadata": {
      "needs_background": "light"
     },
     "output_type": "display_data"
    }
   ],
   "source": [
    "import matplotlib.pyplot as plt\n",
    "\n",
    "# Assuming 'dh' is a DataFrame with the heatmap data\n",
    "# Make sure that 'X' and 'Y' are arrays or lists of tick labels for the x and y axes, respectively.\n",
    "# For 'X', you can use the hours of the day, and for 'Y', the days of the week.\n",
    "\n",
    "# X and Y should have the same length as the dimensions of your data.\n",
    "X = c.columns.levels[1].values\n",
    "Y = c.index.values\n",
    "\n",
    "# Create the heatmap\n",
    "plt.figure(figsize=(10, 5))  # Set the figure size\n",
    "plt.xticks(range(len(X)), X)  # Use the length of X as the number of tick locations\n",
    "plt.yticks(range(len(Y)), Y)  # Use the length of Y as the number of tick locations\n",
    "plt.xlabel('Hour of Day')\n",
    "plt.ylabel('Day of Week')\n",
    "plt.title('Average delay per hours and day')\n",
    "plt.imshow(Z, cmap='coolwarm', aspect='auto')  # Adjust the colormap as needed\n",
    "\n",
    "# Display the colorbar for reference\n",
    "plt.colorbar()\n",
    "\n",
    "# Show the plot\n",
    "plt.show()\n"
   ]
  },
  {
   "cell_type": "code",
   "execution_count": 39,
   "metadata": {},
   "outputs": [],
   "source": [
    "Origin_Airport=\"SJC\""
   ]
  },
  {
   "cell_type": "code",
   "execution_count": 40,
   "metadata": {},
   "outputs": [
    {
     "name": "stderr",
     "output_type": "stream",
     "text": [
      "c:\\Users\\markj\\AppData\\Local\\Programs\\Python\\Python310\\lib\\site-packages\\pyspark\\sql\\dataframe.py:329: FutureWarning: Deprecated in 2.0, use createOrReplaceTempView instead.\n",
      "  warnings.warn(\"Deprecated in 2.0, use createOrReplaceTempView instead.\", FutureWarning)\n"
     ]
    }
   ],
   "source": [
    "df_ORG=sqlContext.sql(\"SELECT * from airlineDF WHERE Origin = '\"+Origin_Airport+\"'\")\n",
    "df_ORG.registerTempTable(\"df_ORG\")"
   ]
  },
  {
   "cell_type": "markdown",
   "metadata": {},
   "source": [
    "# Modeling: Logistic Regression\n",
    "Logistic regression analysis is used to examine the association of (categorical or continuous) independent variable(s) with one dichotomous dependent variable. "
   ]
  },
  {
   "cell_type": "code",
   "execution_count": 41,
   "metadata": {},
   "outputs": [],
   "source": [
    "#feature selction\n",
    "df_model=df_ORG\n",
    "stringIndexer1 = StringIndexer(inputCol=\"Origin\", outputCol=\"originIndex\")\n",
    "model_stringIndexer = stringIndexer1.fit(df_model)\n",
    "indexedOrigin = model_stringIndexer.transform(df_model)\n",
    "encoder1 = OneHotEncoder(dropLast=False,inputCol=\"originIndex\", outputCol=\"originVec\")\n",
    "ohe = encoder1.fit(indexedOrigin)\n",
    "df_model = ohe.transform(indexedOrigin)"
   ]
  },
  {
   "cell_type": "markdown",
   "metadata": {},
   "source": [
    "We use labeled point to make local vectors associated with a label/response.\n",
    "In MLlib, labeled points are used in supervised learning algorithms and they are stored as doubles.\n",
    "For binary classification, a label should be either 0 (negative) or 1 (positive)."
   ]
  },
  {
   "cell_type": "code",
   "execution_count": 42,
   "metadata": {},
   "outputs": [],
   "source": [
    "assembler = VectorAssembler(\n",
    "    inputCols = ['Year','Month','DayofMonth','DayOfWeek','hour','Distance','originVec'],\n",
    "    outputCol = \"features\")\n",
    "output = assembler.transform(df_model)"
   ]
  },
  {
   "cell_type": "code",
   "execution_count": 43,
   "metadata": {},
   "outputs": [],
   "source": [
    "from pyspark.mllib import linalg as mllib_linalg\n",
    "from pyspark.ml import linalg as ml_linalg\n",
    "from pyspark.sql.functions import col\n",
    "def as_old(v):\n",
    "    if isinstance(v, ml_linalg.SparseVector):\n",
    "        return mllib_linalg.SparseVector(v.size, v.indices, v.values)\n",
    "    if isinstance(v, ml_linalg.DenseVector):\n",
    "        return mllib_linalg.DenseVector(v.values)\n",
    "    raise ValueError(\"Unsupported type {0}\".format(type(v)))\n",
    "airlineRDD=output.select(col(\"DepDelayed\").alias(\"label\"), col(\"features\"))\\\n",
    "            .rdd\\\n",
    "            .map(lambda row: LabeledPoint(row.label, as_old(row.features)))"
   ]
  },
  {
   "cell_type": "code",
   "execution_count": 44,
   "metadata": {},
   "outputs": [
    {
     "data": {
      "text/plain": [
       "[LabeledPoint(1.0, [2014.0,12.0,2.0,2.0,18.0,569.0,1.0]),\n",
       " LabeledPoint(1.0, [2014.0,12.0,2.0,2.0,13.0,569.0,1.0])]"
      ]
     },
     "execution_count": 44,
     "metadata": {},
     "output_type": "execute_result"
    }
   ],
   "source": [
    "airlineRDD.take(2)"
   ]
  },
  {
   "cell_type": "code",
   "execution_count": 45,
   "metadata": {},
   "outputs": [],
   "source": [
    "#  Spliting dataset into train and test dtasets\n",
    "trainRDD,testRDD=airlineRDD.randomSplit([0.7,0.3])"
   ]
  },
  {
   "cell_type": "code",
   "execution_count": 46,
   "metadata": {},
   "outputs": [],
   "source": [
    "# Build the model\n",
    "model = LogisticRegressionWithLBFGS.train(trainRDD)"
   ]
  },
  {
   "cell_type": "markdown",
   "metadata": {},
   "source": [
    "# Model Evaluation"
   ]
  },
  {
   "cell_type": "code",
   "execution_count": 47,
   "metadata": {},
   "outputs": [
    {
     "data": {
      "text/plain": [
       "[(1.0, 0), (1.0, 0)]"
      ]
     },
     "execution_count": 47,
     "metadata": {},
     "output_type": "execute_result"
    }
   ],
   "source": [
    "# Evaluating the model on testing data\n",
    "labelsAndPreds = testRDD.map(lambda p: (p.label, model.predict(p.features)))\n",
    "labelsAndPreds.take(2)"
   ]
  },
  {
   "cell_type": "code",
   "execution_count": 48,
   "metadata": {},
   "outputs": [
    {
     "name": "stdout",
     "output_type": "stream",
     "text": [
      "Training Error = 0.09215017064846416\n"
     ]
    }
   ],
   "source": [
    "trainErr = labelsAndPreds.filter(lambda lp: lp[0] != lp[1]).count() / float(testRDD.count())\n",
    "print(\"Training Error = \" + str(trainErr))"
   ]
  },
  {
   "cell_type": "code",
   "execution_count": 49,
   "metadata": {},
   "outputs": [
    {
     "data": {
      "text/plain": [
       "[LabeledPoint(1.0, [2014.0,12.0,4.0,4.0,8.0,2355.0,1.0]),\n",
       " LabeledPoint(1.0, [2014.0,12.0,7.0,7.0,8.0,2355.0,1.0]),\n",
       " LabeledPoint(1.0, [2014.0,12.0,23.0,2.0,15.0,697.0,1.0]),\n",
       " LabeledPoint(0.0, [2014.0,12.0,22.0,1.0,9.0,569.0,1.0]),\n",
       " LabeledPoint(1.0, [2014.0,12.0,22.0,1.0,13.0,569.0,1.0]),\n",
       " LabeledPoint(1.0, [2014.0,12.0,26.0,5.0,10.0,697.0,1.0]),\n",
       " LabeledPoint(1.0, [2014.0,12.0,27.0,6.0,17.0,697.0,1.0]),\n",
       " LabeledPoint(1.0, [2014.0,12.0,27.0,6.0,12.0,697.0,1.0]),\n",
       " LabeledPoint(0.0, [2014.0,12.0,27.0,6.0,7.0,569.0,1.0]),\n",
       " LabeledPoint(1.0, [2014.0,12.0,19.0,5.0,17.0,697.0,1.0])]"
      ]
     },
     "execution_count": 49,
     "metadata": {},
     "output_type": "execute_result"
    }
   ],
   "source": [
    "testRDD.take(10)"
   ]
  },
  {
   "cell_type": "code",
   "execution_count": 50,
   "metadata": {},
   "outputs": [],
   "source": [
    "def conf(r):\n",
    "    if r[0] == r[1] ==1: x= 'TP'\n",
    "    if r[0] == r[1] ==0: x= 'TN'\n",
    "    if r[0] == 1 and  r[1] ==0: x= 'FN'\n",
    "    if r[0] == 0 and  r[1] ==1: x= 'FP'\n",
    "    return (x)\n",
    "acc1 = labelsAndPreds.map(lambda vp: ((vp[1], vp[0]), 1)).reduceByKey(lambda a, b: a + b).take(5)\n",
    "acc = [(conf(x[0]),x[1]) for x in acc1]"
   ]
  },
  {
   "cell_type": "code",
   "execution_count": 51,
   "metadata": {},
   "outputs": [
    {
     "name": "stdout",
     "output_type": "stream",
     "text": [
      "('FP', 3)\n",
      "('TP', 256)\n",
      "('FN', 24)\n",
      "('TN', 10)\n"
     ]
    }
   ],
   "source": [
    "for x in range(len(acc)): \n",
    "    print (acc[x])"
   ]
  },
  {
   "cell_type": "code",
   "execution_count": 52,
   "metadata": {},
   "outputs": [
    {
     "name": "stdout",
     "output_type": "stream",
     "text": [
      "Model Accuracy for SJC:\n",
      "90.78498293515358\n"
     ]
    }
   ],
   "source": [
    "TP=TN=FP=FN=0.0\n",
    "for x in acc: \n",
    "    if x[0]=='TP': TP= x[1]\n",
    "    if x[0]=='TN': TN= x[1]\n",
    "    if x[0]=='FP': FP= x[1]\n",
    "    if x[0]=='FN': FN= x[1]\n",
    "eps = sys.float_info.epsilon\n",
    "Accuracy = (TP+TN) / (TP + TN+ FP+FN+eps) \n",
    "print(\"Model Accuracy for SJC:\")\n",
    "print(float(Accuracy*100))"
   ]
  },
  {
   "cell_type": "code",
   "execution_count": null,
   "metadata": {},
   "outputs": [],
   "source": []
  }
 ],
 "metadata": {
  "kernelspec": {
   "display_name": "Python 3",
   "language": "python",
   "name": "python3"
  },
  "language_info": {
   "codemirror_mode": {
    "name": "ipython",
    "version": 3
   },
   "file_extension": ".py",
   "mimetype": "text/x-python",
   "name": "python",
   "nbconvert_exporter": "python",
   "pygments_lexer": "ipython3",
   "version": "3.10.5"
  }
 },
 "nbformat": 4,
 "nbformat_minor": 4
}
